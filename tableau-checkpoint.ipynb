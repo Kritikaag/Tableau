{
 "cells": [
  {
   "cell_type": "code",
   "execution_count": 4,
   "id": "affecting-recipe",
   "metadata": {},
   "outputs": [],
   "source": [
    "from io import BytesIO\n",
    "from urllib.request import urlopen\n",
    "from zipfile import ZipFile\n",
    "import pandas as pd\n",
    "import glob\n",
    "from pathlib import Path\n",
    "import os, shutil"
   ]
  },
  {
   "cell_type": "code",
   "execution_count": 10,
   "id": "persistent-ensemble",
   "metadata": {},
   "outputs": [],
   "source": [
    "monthly_data_prefix = ['202001',\n",
    "'202002',\n",
    "'202003',\n",
    "'202004',\n",
    "'202005',\n",
    "'202006',\n",
    "'202007',\n",
    "'202008',\n",
    "'202009',\n",
    "'202010',\n",
    "'202011',\n",
    "'202012']\n",
    "\n",
    "for dt in monthly_data_prefix:\n",
    "    zipurl = f\"https://s3.amazonaws.com/tripdata/JC-{dt}-citibike-tripdata.csv.zip\"\n",
    "    with urlopen(zipurl) as zipresp:\n",
    "        with ZipFile(BytesIO(zipresp.read())) as zfile:\n",
    "            zfile.extractall(f\"JC-{dt}-citibike-tripdata\")\n",
    "    path = f\"JC-{dt}-citibike-tripdata/\"\n",
    "    moveto = \"tableau/data/\"\n",
    "    files = os.listdir(path)\n",
    "    files.sort()\n",
    "    for f in files:\n",
    "        src = path+f\n",
    "        dst = moveto+f\n",
    "        shutil.move(src,dst)\n"
   ]
  },
  {
   "cell_type": "code",
   "execution_count": null,
   "id": "virtual-skirt",
   "metadata": {},
   "outputs": [],
   "source": []
  }
 ],
 "metadata": {
  "kernelspec": {
   "display_name": "Python 3",
   "language": "python",
   "name": "python3"
  },
  "language_info": {
   "codemirror_mode": {
    "name": "ipython",
    "version": 3
   },
   "file_extension": ".py",
   "mimetype": "text/x-python",
   "name": "python",
   "nbconvert_exporter": "python",
   "pygments_lexer": "ipython3",
   "version": "3.6.12"
  }
 },
 "nbformat": 4,
 "nbformat_minor": 5
}
